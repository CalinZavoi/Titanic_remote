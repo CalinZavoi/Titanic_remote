{
  "cells": [
    {
      "cell_type": "markdown",
      "metadata": {
        "id": "view-in-github",
        "colab_type": "text"
      },
      "source": [
        "<a href=\"https://colab.research.google.com/github/CalinZavoi/Titanic_remote/blob/practice/titanic_stats.ipynb\" target=\"_parent\"><img src=\"https://colab.research.google.com/assets/colab-badge.svg\" alt=\"Open In Colab\"/></a>"
      ]
    },
    {
      "cell_type": "markdown",
      "metadata": {
        "id": "edb5Gqd74VsC"
      },
      "source": [
        "Using the Titanic datset read from csv file\n",
        "\n",
        "https://www.kaggle.com/datasets/brendan45774/test-file"
      ]
    },
    {
      "cell_type": "code",
      "execution_count": null,
      "metadata": {
        "id": "FTo8fKzK4VsJ"
      },
      "outputs": [],
      "source": [
        "import pandas as pd\n",
        "\n",
        "data = pd.read_csv('tested.csv')\n",
        "\n",
        "df = pd.DataFrame(data)\n",
        "\n",
        "display(df)\n",
        "\n",
        "\n"
      ]
    },
    {
      "cell_type": "code",
      "source": [
        "survival_counts = df['Survived'].sum()\n",
        "\n",
        "display(survival_counts)"
      ],
      "metadata": {
        "colab": {
          "base_uri": "https://localhost:8080/",
          "height": 34
        },
        "id": "_QfHzPVjHxhr",
        "outputId": "45a0d794-6530-459d-9176-1ca0790128b3"
      },
      "execution_count": 4,
      "outputs": [
        {
          "output_type": "display_data",
          "data": {
            "text/plain": [
              "152"
            ]
          },
          "metadata": {}
        }
      ]
    },
    {
      "cell_type": "markdown",
      "source": [
        "Calculate the overall survival rate:"
      ],
      "metadata": {
        "id": "ZGdnoDa3I0k6"
      }
    },
    {
      "cell_type": "code",
      "source": [
        "total_passengers = df.shape[0]\n",
        "\n",
        "survival_rate = (survival_counts / total_passengers) * 100\n",
        "\n",
        "print(survival_rate)"
      ],
      "metadata": {
        "colab": {
          "base_uri": "https://localhost:8080/"
        },
        "id": "TrDOtcVeH2Hm",
        "outputId": "d977984e-0cbc-4cb0-9b15-09c4697324be"
      },
      "execution_count": 11,
      "outputs": [
        {
          "output_type": "stream",
          "name": "stdout",
          "text": [
            "36.36363636363637\n"
          ]
        }
      ]
    },
    {
      "cell_type": "markdown",
      "source": [
        "Group the data by 'Sex' and calculate the survival rate for each gender."
      ],
      "metadata": {
        "id": "KxqIhDGlJDqi"
      }
    },
    {
      "cell_type": "code",
      "source": [
        "survival_count_by_gender = df.groupby('Sex')['Survived'].sum()\n",
        "total_count_by_gender = df.groupby('Sex')['Survived'].count()\n",
        "survival_rate_by_gender = (survival_count_by_gender / total_count_by_gender) * 100\n",
        "\n",
        "print(survival_rate_by_gender)"
      ],
      "metadata": {
        "colab": {
          "base_uri": "https://localhost:8080/"
        },
        "id": "y_B45Fm9INiM",
        "outputId": "03a13c46-21a2-45b3-9140-9e91a3b8fb14"
      },
      "execution_count": 18,
      "outputs": [
        {
          "output_type": "stream",
          "name": "stdout",
          "text": [
            "Sex\n",
            "female    100.0\n",
            "male        0.0\n",
            "Name: Survived, dtype: float64\n"
          ]
        }
      ]
    },
    {
      "cell_type": "markdown",
      "source": [
        "Explore the survival rate based on passenger class:"
      ],
      "metadata": {
        "id": "WsOCw2NHLybz"
      }
    },
    {
      "cell_type": "code",
      "source": [
        "survived_by_class = df.groupby('Pclass')['Survived'].sum()\n",
        "total_passengers_by_class = df.groupby('Pclass')['Survived'].count()\n",
        "\n",
        "\n",
        "survival_rate_by_class = (survived_by_class / total_passengers_by_class) * 100\n",
        "\n",
        "print(survival_rate_by_class)"
      ],
      "metadata": {
        "colab": {
          "base_uri": "https://localhost:8080/"
        },
        "id": "zm4kAqMiLxwr",
        "outputId": "75d287ee-8fdd-4810-a67f-6a2a1947de85"
      },
      "execution_count": 19,
      "outputs": [
        {
          "output_type": "stream",
          "name": "stdout",
          "text": [
            "Pclass\n",
            "1    46.728972\n",
            "2    32.258065\n",
            "3    33.027523\n",
            "Name: Survived, dtype: float64\n"
          ]
        }
      ]
    }
  ],
  "metadata": {
    "language_info": {
      "name": "python"
    },
    "orig_nbformat": 4,
    "colab": {
      "provenance": [],
      "include_colab_link": true
    },
    "kernelspec": {
      "name": "python3",
      "display_name": "Python 3"
    }
  },
  "nbformat": 4,
  "nbformat_minor": 0
}